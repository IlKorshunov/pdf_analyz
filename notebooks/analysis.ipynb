{
 "cells": [
  {
   "cell_type": "code",
   "execution_count": null,
   "id": "7c23e5cc",
   "metadata": {},
   "outputs": [],
   "source": [
    "import sys\n",
    "sys.path.append('../src')\n",
    "\n",
    "from document import Document, ParallelProcessor\n",
    "from page import Page\n",
    "from page.extractors import TextExtractor, TableExtractor, LinkExtractor, ImageExtractor, TitleExtractor\n",
    "from report import Checker, Reporter\n",
    "from main import analyze_document_pipeline as analyze_document, main\n"
   ]
  },
  {
   "cell_type": "code",
   "execution_count": 27,
   "id": "2f14a80b",
   "metadata": {},
   "outputs": [],
   "source": [
    "pdf_path = \"../data/two.pdf\"\n",
    "output_json_path = \"analysis_results.json\"\n",
    "images_dir = \"images\""
   ]
  },
  {
   "cell_type": "code",
   "execution_count": 28,
   "id": "db36864d",
   "metadata": {},
   "outputs": [
    {
     "name": "stdout",
     "output_type": "stream",
     "text": [
      "Проанализировано страниц: 54\n"
     ]
    }
   ],
   "source": [
    "with Document(pdf_path) as doc:\n",
    "    results = doc.analyze_document(images_dir=images_dir)\n",
    "    doc.analyze_and_save_json(output_json_path, images_dir=images_dir)\n",
    "\n",
    "print(f\"Проанализировано страниц: {len(results)}\")"
   ]
  },
  {
   "cell_type": "code",
   "execution_count": 29,
   "id": "1ce96960",
   "metadata": {},
   "outputs": [
    {
     "name": "stdout",
     "output_type": "stream",
     "text": [
      "Resolved анализ завершён: 54 страниц\n"
     ]
    }
   ],
   "source": [
    "resolved_output = \"resolved_results.json\"\n",
    "resolved_images_dir = \"resolved_images\"\n",
    "resolved=False\n",
    "verbose=False\n",
    "with Document(pdf_path) as doc:\n",
    "    resolved_results = doc.analyze_document(\n",
    "        images_dir=resolved_images_dir, \n",
    "        resolved=resolved, \n",
    "        verbose=verbose\n",
    "    )\n",
    "    doc.analyze_and_save_json(\n",
    "        resolved_output, \n",
    "        images_dir=resolved_images_dir, \n",
    "        resolved=resolved\n",
    "    )\n",
    "\n",
    "print(f\"Resolved анализ завершён: {len(resolved_results)} страниц\")\n"
   ]
  },
  {
   "cell_type": "code",
   "execution_count": 30,
   "id": "b46156ca",
   "metadata": {},
   "outputs": [
    {
     "name": "stdout",
     "output_type": "stream",
     "text": [
      "Все проверки пройдены: True\n",
      "Отчёт:\n",
      "Все проверки пройдены.\n",
      "Отчёт сохранён в: quality_report.txt\n"
     ]
    }
   ],
   "source": [
    "checker = Checker()\n",
    "reporter = Reporter()\n",
    "\n",
    "check_results = checker.check_document(pdf_path, results)\n",
    "print(f\"Все проверки пройдены: {check_results['all_ok']}\")\n",
    "\n",
    "report_text = reporter.get_report(pdf_path, results)\n",
    "print(\"Отчёт:\")\n",
    "print(report_text)\n",
    "\n",
    "reporter.save_report(pdf_path, results, \"quality_report.txt\")\n",
    "print(\"Отчёт сохранён в: quality_report.txt\")"
   ]
  }
 ],
 "metadata": {
  "kernelspec": {
   "display_name": "venv310",
   "language": "python",
   "name": "python3"
  },
  "language_info": {
   "codemirror_mode": {
    "name": "ipython",
    "version": 3
   },
   "file_extension": ".py",
   "mimetype": "text/x-python",
   "name": "python",
   "nbconvert_exporter": "python",
   "pygments_lexer": "ipython3",
   "version": "3.10.18"
  }
 },
 "nbformat": 4,
 "nbformat_minor": 5
}
